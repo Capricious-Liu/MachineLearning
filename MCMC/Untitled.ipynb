{
 "cells": [
  {
   "cell_type": "markdown",
   "metadata": {},
   "source": [
    "### Metropolis-Hastings Algorithm"
   ]
  },
  {
   "cell_type": "code",
   "execution_count": 35,
   "metadata": {},
   "outputs": [],
   "source": [
    "mu = 3\n",
    "sigma = 10\n",
    "def qsample():\n",
    "    return np.random.normal(mu,sigma)\n",
    "def q(x):\n",
    "#     return np.random.rand()\n",
    "#     return np.array(1)\n",
    "    return np.exp(-(x-mu)**2/(sigma**2))\n",
    "def p(x):\n",
    "    return 0.3*np.exp(-(x-0.3)**2) + 0.7* np.exp(-(x-2.)**2/0.3)\n",
    "def hm(n=10000):\n",
    "    sample = np.zeros(n)\n",
    "    sample[0] = 0.5\n",
    "    for i in range(n-1):\n",
    "        q_s = qsample()\n",
    "        u = np.random.rand()\n",
    "        if u < min(1, (p(q_s)*q(sample[i]))/(p(sample[i])*q(q_s))):\n",
    "            sample[i+1] = q_s\n",
    "        else:\n",
    "            sample[i+1] = sample[i]\n",
    "    return sample"
   ]
  },
  {
   "cell_type": "code",
   "execution_count": 37,
   "metadata": {},
   "outputs": [
    {
     "name": "stderr",
     "output_type": "stream",
     "text": [
      "C:\\Temp\\anaconda\\lib\\site-packages\\matplotlib\\axes\\_axes.py:6571: UserWarning: The 'normed' kwarg is deprecated, and has been replaced by the 'density' kwarg.\n",
      "  warnings.warn(\"The 'normed' kwarg is deprecated, and has been \"\n"
     ]
    },
    {
     "data": {
      "image/png": "[encoded data removed]",
      "text/plain": [
       "<Figure size 432x288 with 1 Axes>"
      ]
     },
     "metadata": {
      "needs_background": "light"
     },
     "output_type": "display_data"
    }
   ],
   "source": [
    "x = np.arange(0,4,0.1)\n",
    "realdata = p(x)\n",
    "N=10000\n",
    "sample = hm(N)\n",
    "plt.plot(x,realdata,'g',lw=3)\n",
    "plt.plot(x,q(x),'r')\n",
    "plt.hist(sample,bins=x,normed=1,fc='c')\n",
    "plt.show()"
   ]
  },
  {
   "cell_type": "code",
   "execution_count": null,
   "metadata": {},
   "outputs": [],
   "source": []
  },
  {
   "cell_type": "markdown",
   "metadata": {},
   "source": [
    "### Rejection Sampling"
   ]
  },
  {
   "cell_type": "code",
   "execution_count": 29,
   "metadata": {},
   "outputs": [],
   "source": [
    "from pylab import *\n",
    "from numpy import *\n",
    "\n",
    "def qsample():\n",
    "    return random.rand()*4.\n",
    "\n",
    "def p(x):\n",
    "    return 0.3*exp(-(x-0.3)**2) + 0.7* exp(-(x-2.)**2/0.3) \n",
    "\n",
    "def rejection(nsamples):\n",
    "    \n",
    "#     M = 0.75#0.8\n",
    "    samples = zeros(nsamples,dtype=float)\n",
    "    count = 0\n",
    "    for i in range(nsamples):\n",
    "        accept = False\n",
    "        while not accept:\n",
    "            x = qsample()\n",
    "            u = random.rand()*M\n",
    "            if u<p(x):\n",
    "                accept = True\n",
    "                samples[i] = x\n",
    "            else: \n",
    "                count += 1\n",
    "    print(count) \n",
    "    return samples\n"
   ]
  },
  {
   "cell_type": "code",
   "execution_count": 30,
   "metadata": {},
   "outputs": [
    {
     "name": "stdout",
     "output_type": "stream",
     "text": [
      "375460\n"
     ]
    },
    {
     "name": "stderr",
     "output_type": "stream",
     "text": [
      "C:\\Temp\\anaconda\\lib\\site-packages\\matplotlib\\axes\\_axes.py:6571: UserWarning: The 'normed' kwarg is deprecated, and has been replaced by the 'density' kwarg.\n",
      "  warnings.warn(\"The 'normed' kwarg is deprecated, and has been \"\n"
     ]
    },
    {
     "data": {
      "image/png": "[encoded data removed]",
      "text/plain": [
       "<Figure size 432x288 with 1 Axes>"
      ]
     },
     "metadata": {
      "needs_background": "light"
     },
     "output_type": "display_data"
    }
   ],
   "source": [
    "x = arange(0,4,0.01)\n",
    "x2 = arange(-0.5,4.5,0.1)\n",
    "realdata = 0.3*exp(-(x-0.3)**2) + 0.7* exp(-(x-2.)**2/0.3)\n",
    "M=10\n",
    "box = ones(len(x2))*M#0.8\n",
    "box[:5] = 0\n",
    "box[-5:] = 0\n",
    "plot(x,realdata,'k',color=\"r\",lw=6)\n",
    "plot(x2,box,'k--',lw=6)\n",
    "\n",
    "samples = rejection(10000)\n",
    "\n",
    "hist(samples,15,normed=1,fc='k')\n",
    "xlabel('x',fontsize=24)\n",
    "ylabel('p(x)',fontsize=24)\n",
    "axis([-0.5,4.5,0,1])\n",
    "show()"
   ]
  },
  {
   "cell_type": "code",
   "execution_count": null,
   "metadata": {},
   "outputs": [],
   "source": []
  },
  {
   "cell_type": "code",
   "execution_count": null,
   "metadata": {},
   "outputs": [],
   "source": []
  }
 ],
 "metadata": {
  "kernelspec": {
   "display_name": "Python 3",
   "language": "python",
   "name": "python3"
  },
  "language_info": {
   "codemirror_mode": {
    "name": "ipython",
    "version": 3
   },
   "file_extension": ".py",
   "mimetype": "text/x-python",
   "name": "python",
   "nbconvert_exporter": "python",
   "pygments_lexer": "ipython3",
   "version": "3.7.0"
  }
 },
 "nbformat": 4,
 "nbformat_minor": 2
}
